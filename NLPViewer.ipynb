{
 "cells": [
  {
   "cell_type": "code",
   "execution_count": 1,
   "metadata": {},
   "outputs": [],
   "source": [
    "from IPython.core.interactiveshell import InteractiveShell\n",
    "InteractiveShell.ast_node_interactivity = \"all\""
   ]
  },
  {
   "cell_type": "code",
   "execution_count": 2,
   "metadata": {},
   "outputs": [],
   "source": [
    "import os\n",
    "import glob\n",
    "import pandas as pd"
   ]
  },
  {
   "cell_type": "markdown",
   "metadata": {},
   "source": [
    "# View Wikipedia Data"
   ]
  },
  {
   "cell_type": "markdown",
   "metadata": {},
   "source": [
    "### Load data"
   ]
  },
  {
   "cell_type": "code",
   "execution_count": 3,
   "metadata": {},
   "outputs": [],
   "source": [
    "def get_wiki_urls(data_dir):\n",
    "    url_list = glob.glob(os.path.join(data_dir, '*'))\n",
    "    return dict(zip(range(len(url_list)), url_list))\n",
    "\n",
    "def get_wikitext(df, by):\n",
    "    df = df[df['tag']=='p']\n",
    "    return list(map(lambda x: ' '.join(x[1]['data']), df.groupby(by)))"
   ]
  },
  {
   "cell_type": "code",
   "execution_count": 4,
   "metadata": {},
   "outputs": [],
   "source": [
    "wiki_urls = get_wiki_urls('data/wiki')"
   ]
  },
  {
   "cell_type": "code",
   "execution_count": 5,
   "metadata": {},
   "outputs": [
    {
     "data": {
      "text/plain": [
       "{0: 'data/wiki/Instrumentalism.csv',\n",
       " 1: 'data/wiki/Baal.csv',\n",
       " 2: 'data/wiki/Agnosticism.csv',\n",
       " 3: 'data/wiki/Fly.csv'}"
      ]
     },
     "execution_count": 5,
     "metadata": {},
     "output_type": "execute_result"
    }
   ],
   "source": [
    "wiki_urls"
   ]
  },
  {
   "cell_type": "code",
   "execution_count": 6,
   "metadata": {},
   "outputs": [],
   "source": [
    "wiki = pd.read_csv(wiki_urls[0])"
   ]
  },
  {
   "cell_type": "code",
   "execution_count": 7,
   "metadata": {},
   "outputs": [
    {
     "data": {
      "text/html": [
       "<div>\n",
       "<style scoped>\n",
       "    .dataframe tbody tr th:only-of-type {\n",
       "        vertical-align: middle;\n",
       "    }\n",
       "\n",
       "    .dataframe tbody tr th {\n",
       "        vertical-align: top;\n",
       "    }\n",
       "\n",
       "    .dataframe thead th {\n",
       "        text-align: right;\n",
       "    }\n",
       "</style>\n",
       "<table border=\"1\" class=\"dataframe\">\n",
       "  <thead>\n",
       "    <tr style=\"text-align: right;\">\n",
       "      <th></th>\n",
       "      <th>nword</th>\n",
       "      <th>data</th>\n",
       "      <th>tag</th>\n",
       "      <th>section</th>\n",
       "      <th>subsection</th>\n",
       "      <th>paragraph</th>\n",
       "    </tr>\n",
       "  </thead>\n",
       "  <tbody>\n",
       "    <tr>\n",
       "      <th>0</th>\n",
       "      <td>1</td>\n",
       "      <td>Instrumentalism</td>\n",
       "      <td>h1</td>\n",
       "      <td>0</td>\n",
       "      <td>0</td>\n",
       "      <td>0</td>\n",
       "    </tr>\n",
       "    <tr>\n",
       "      <th>1</th>\n",
       "      <td>36</td>\n",
       "      <td>In philosophy of science and in epistemology, ...</td>\n",
       "      <td>p</td>\n",
       "      <td>0</td>\n",
       "      <td>0</td>\n",
       "      <td>1</td>\n",
       "    </tr>\n",
       "    <tr>\n",
       "      <th>2</th>\n",
       "      <td>21</td>\n",
       "      <td>According to instrumentalists, a successful sc...</td>\n",
       "      <td>p</td>\n",
       "      <td>0</td>\n",
       "      <td>0</td>\n",
       "      <td>2</td>\n",
       "    </tr>\n",
       "    <tr>\n",
       "      <th>3</th>\n",
       "      <td>40</td>\n",
       "      <td>Scientific theory is merely a tool whereby hum...</td>\n",
       "      <td>p</td>\n",
       "      <td>0</td>\n",
       "      <td>0</td>\n",
       "      <td>2</td>\n",
       "    </tr>\n",
       "    <tr>\n",
       "      <th>4</th>\n",
       "      <td>11</td>\n",
       "      <td>Instrumentalism is a perspective originally in...</td>\n",
       "      <td>p</td>\n",
       "      <td>0</td>\n",
       "      <td>0</td>\n",
       "      <td>2</td>\n",
       "    </tr>\n",
       "  </tbody>\n",
       "</table>\n",
       "</div>"
      ],
      "text/plain": [
       "   nword                                               data tag  section  \\\n",
       "0      1                                    Instrumentalism  h1        0   \n",
       "1     36  In philosophy of science and in epistemology, ...   p        0   \n",
       "2     21  According to instrumentalists, a successful sc...   p        0   \n",
       "3     40  Scientific theory is merely a tool whereby hum...   p        0   \n",
       "4     11  Instrumentalism is a perspective originally in...   p        0   \n",
       "\n",
       "   subsection  paragraph  \n",
       "0           0          0  \n",
       "1           0          1  \n",
       "2           0          2  \n",
       "3           0          2  \n",
       "4           0          2  "
      ]
     },
     "execution_count": 7,
     "metadata": {},
     "output_type": "execute_result"
    }
   ],
   "source": [
    "wiki.head(5)"
   ]
  },
  {
   "cell_type": "markdown",
   "metadata": {},
   "source": [
    "### Text by paragraph"
   ]
  },
  {
   "cell_type": "code",
   "execution_count": 8,
   "metadata": {},
   "outputs": [
    {
     "data": {
      "text/plain": [
       "['In philosophy of science and in epistemology, instrumentalism is a methodological view that ideas are useful instruments, and that the worth of an idea is based on how effective it is in explaining and predicting phenomena.',\n",
       " \"According to instrumentalists, a successful scientific theory reveals nothing known either true or false about nature's unobservable objects, properties or processes. Scientific theory is merely a tool whereby humans predict observations in a particular domain of nature by formulating laws, which state or summarize regularities, while theories themselves do not reveal supposedly hidden aspects of nature that somehow explain these laws. Instrumentalism is a perspective originally introduced by Pierre Duhem in 1906.\",\n",
       " \"Rejecting scientific realism's ambitions to uncover metaphysical truth about nature, instrumentalism is usually categorized as an antirealism, although its mere lack of commitment to scientific theory's realism can be termed nonrealism. Instrumentalism merely bypasses debate concerning whether, for example, a particle spoken about in particle physics is a discrete entity enjoying individual existence, or is an excitation mode of a region of a field, or is something else altogether. Instrumentalism holds that theoretical terms need only be useful to predict the phenomena, the observed outcomes.\"]"
      ]
     },
     "execution_count": 8,
     "metadata": {},
     "output_type": "execute_result"
    }
   ],
   "source": [
    "get_wikitext(wiki, 'paragraph')[:3]"
   ]
  },
  {
   "cell_type": "markdown",
   "metadata": {},
   "source": [
    "### Text by section"
   ]
  },
  {
   "cell_type": "code",
   "execution_count": 9,
   "metadata": {},
   "outputs": [
    {
     "data": {
      "text/plain": [
       "[\"In philosophy of science and in epistemology, instrumentalism is a methodological view that ideas are useful instruments, and that the worth of an idea is based on how effective it is in explaining and predicting phenomena. According to instrumentalists, a successful scientific theory reveals nothing known either true or false about nature's unobservable objects, properties or processes. Scientific theory is merely a tool whereby humans predict observations in a particular domain of nature by formulating laws, which state or summarize regularities, while theories themselves do not reveal supposedly hidden aspects of nature that somehow explain these laws. Instrumentalism is a perspective originally introduced by Pierre Duhem in 1906. Rejecting scientific realism's ambitions to uncover metaphysical truth about nature, instrumentalism is usually categorized as an antirealism, although its mere lack of commitment to scientific theory's realism can be termed nonrealism. Instrumentalism merely bypasses debate concerning whether, for example, a particle spoken about in particle physics is a discrete entity enjoying individual existence, or is an excitation mode of a region of a field, or is something else altogether. Instrumentalism holds that theoretical terms need only be useful to predict the phenomena, the observed outcomes. There are multiple versions of instrumentalism.\",\n",
       " 'Newton\\'s theory of motion, whereby any object instantly interacts with all other objects across the universe, motivated the founder of British empiricism, John Locke, to speculate that matter is capable of thought. The next leading British empiricist, George Berkeley, argued that an object\\'s putative primary qualities as recognized by scientists, such as shape, extension, and impenetrability, are inconceivable without the putative secondary qualities of color, hardness, warmth, and so on. He also posed the question how or why an object could be properly conceived to exist independently of any perception of it. Berkeley did not object to everyday talk about the reality of objects, but instead took issue with philosophers\\' talk, who spoke as if they knew something beyond sensory impressions that ordinary folk did not. For Berkeley, a scientific theory does not state causes or explanations, but simply identifies perceived types of objects and traces their typical regularities. Berkeley thus anticipated the basis of what Auguste Comte in the 1830s called positivism, although Comtean positivism added other principles concerning the scope, method, and uses of science that Berkeley would have disavowed. Berkeley also noted the usefulness of a scientific theory having terms that merely serve to aid calculations without their having to refer to anything in particular, so long as they proved useful in practice. Berkeley thus predated the insight that logical positivists—who originated in the late 1920s, but who, by the 1950s, had softened into logical empiricists—would be compelled to accept: theoretical terms in science do not always translate into observational terms. The last great British empiricist, David Hume, posed a number of challenges to Francis Bacon\\'s inductivism, which had been the prevailing, or at least the professed view concerning the attainment of scientific knowledge. Regarding himself as having placed his own theory of knowledge on par with Newton\\'s theory of motion, Hume supposed that he had championed inductivism over scientific realism. Upon reading Hume\\'s work, Immanuel Kant was \"awakened from dogmatic slumber\", and thus sought to neutralise any threat to science posed by Humean empiricism. Kant would develop the first stark philosophy of physics.',\n",
       " 'To save Newton\\'s law of universal gravitation, Immanuel Kant reasoned that the mind is the precondition of experience and so, as the bridge from the noumena, which are how the world\\'s things exist in themselves, to the phenomena, which are humans\\' recognized experiences. And so mind itself contains the structure that determines space, time, and substance, how mind\\'s own categorization of noumena renders space Euclidean, time constant, and objects\\' motions exhibiting the very determinism predicted by Newtonian physics. Kant apparently presumed that the human mind, rather than a phenomenon itself that had evolved, had been predetermined and set forth upon the formation of humankind. In any event, the mind also was the veil of appearance that scientific methods could never lift. And yet the mind could ponder itself and discover such truths, although not on a theoretical level, but only by means of ethics. Kant\\'s metaphysics, then, transcendental idealism, secured science from doubt—in that it was a case of \"synthetic a priori\" knowledge (\"universal, necessary and informative\")—and yet discarded hope of scientific realism. Meanwhile, it was a watershed for idealist metaphysics, and launched German idealism, most influentially Hegel\\'s absolute idealism or objective idealism, or at least interpretations, often misinterpretations, and political misuses, of it.']"
      ]
     },
     "execution_count": 9,
     "metadata": {},
     "output_type": "execute_result"
    }
   ],
   "source": [
    "get_wikitext(wiki, 'subsection')[:3]"
   ]
  },
  {
   "cell_type": "markdown",
   "metadata": {},
   "source": [
    "# View TM Data"
   ]
  },
  {
   "cell_type": "markdown",
   "metadata": {},
   "source": [
    "### TM data by lines"
   ]
  },
  {
   "cell_type": "code",
   "execution_count": 10,
   "metadata": {},
   "outputs": [],
   "source": [
    "tm_lines = pd.read_csv('data/tm/rib/lines.tsv', sep='\\t').fillna('')"
   ]
  },
  {
   "cell_type": "code",
   "execution_count": 11,
   "metadata": {},
   "outputs": [
    {
     "data": {
      "text/html": [
       "<div>\n",
       "<style scoped>\n",
       "    .dataframe tbody tr th:only-of-type {\n",
       "        vertical-align: middle;\n",
       "    }\n",
       "\n",
       "    .dataframe tbody tr th {\n",
       "        vertical-align: top;\n",
       "    }\n",
       "\n",
       "    .dataframe thead th {\n",
       "        text-align: right;\n",
       "    }\n",
       "</style>\n",
       "<table border=\"1\" class=\"dataframe\">\n",
       "  <thead>\n",
       "    <tr style=\"text-align: right;\">\n",
       "      <th></th>\n",
       "      <th>prefix</th>\n",
       "      <th>c0</th>\n",
       "      <th>content</th>\n",
       "      <th>size</th>\n",
       "      <th>face</th>\n",
       "      <th>marker</th>\n",
       "      <th>line</th>\n",
       "      <th>page</th>\n",
       "      <th>x0</th>\n",
       "      <th>y0</th>\n",
       "      <th>...</th>\n",
       "      <th>spacing</th>\n",
       "      <th>chunk</th>\n",
       "      <th>group</th>\n",
       "      <th>type</th>\n",
       "      <th>section</th>\n",
       "      <th>subsection</th>\n",
       "      <th>subsubsection</th>\n",
       "      <th>title</th>\n",
       "      <th>section_tag</th>\n",
       "      <th>image_url</th>\n",
       "    </tr>\n",
       "  </thead>\n",
       "  <tbody>\n",
       "    <tr>\n",
       "      <th>0</th>\n",
       "      <td></td>\n",
       "      <td>TM 5-1940-328-10</td>\n",
       "      <td>TM 5-1940-328-10</td>\n",
       "      <td>24.0</td>\n",
       "      <td>1</td>\n",
       "      <td>-1</td>\n",
       "      <td>0</td>\n",
       "      <td>1</td>\n",
       "      <td>30.818960</td>\n",
       "      <td>9.038821</td>\n",
       "      <td>...</td>\n",
       "      <td>-99.0</td>\n",
       "      <td>0</td>\n",
       "      <td>0</td>\n",
       "      <td>0</td>\n",
       "      <td>0</td>\n",
       "      <td>0</td>\n",
       "      <td>0</td>\n",
       "      <td></td>\n",
       "      <td>0</td>\n",
       "      <td></td>\n",
       "    </tr>\n",
       "    <tr>\n",
       "      <th>1</th>\n",
       "      <td></td>\n",
       "      <td>OPERATOR MANUAL</td>\n",
       "      <td>OPERATOR MANUAL</td>\n",
       "      <td>14.0</td>\n",
       "      <td>1</td>\n",
       "      <td>-1</td>\n",
       "      <td>1</td>\n",
       "      <td>1</td>\n",
       "      <td>35.302621</td>\n",
       "      <td>17.640046</td>\n",
       "      <td>...</td>\n",
       "      <td>5.2</td>\n",
       "      <td>1</td>\n",
       "      <td>0</td>\n",
       "      <td>0</td>\n",
       "      <td>0</td>\n",
       "      <td>0</td>\n",
       "      <td>0</td>\n",
       "      <td>START</td>\n",
       "      <td>0</td>\n",
       "      <td></td>\n",
       "    </tr>\n",
       "    <tr>\n",
       "      <th>2</th>\n",
       "      <td></td>\n",
       "      <td>FOR</td>\n",
       "      <td>FOR</td>\n",
       "      <td>14.0</td>\n",
       "      <td>1</td>\n",
       "      <td>-1</td>\n",
       "      <td>2</td>\n",
       "      <td>1</td>\n",
       "      <td>44.642815</td>\n",
       "      <td>20.821866</td>\n",
       "      <td>...</td>\n",
       "      <td>1.2</td>\n",
       "      <td>2</td>\n",
       "      <td>0</td>\n",
       "      <td>0</td>\n",
       "      <td>0</td>\n",
       "      <td>0</td>\n",
       "      <td>0</td>\n",
       "      <td></td>\n",
       "      <td>0</td>\n",
       "      <td></td>\n",
       "    </tr>\n",
       "    <tr>\n",
       "      <th>3</th>\n",
       "      <td></td>\n",
       "      <td>RIGID INFLATABLE BOAT</td>\n",
       "      <td>RIGID INFLATABLE BOAT (RIB)</td>\n",
       "      <td>18.0</td>\n",
       "      <td>1</td>\n",
       "      <td>-1</td>\n",
       "      <td>3</td>\n",
       "      <td>1</td>\n",
       "      <td>25.986118</td>\n",
       "      <td>24.010614</td>\n",
       "      <td>...</td>\n",
       "      <td>1.2</td>\n",
       "      <td>3</td>\n",
       "      <td>1</td>\n",
       "      <td>1</td>\n",
       "      <td>0</td>\n",
       "      <td>0</td>\n",
       "      <td>0</td>\n",
       "      <td></td>\n",
       "      <td>0</td>\n",
       "      <td></td>\n",
       "    </tr>\n",
       "    <tr>\n",
       "      <th>4</th>\n",
       "      <td></td>\n",
       "      <td>P/N NSW8MTR-OPEN-001</td>\n",
       "      <td>P/N NSW8MTR-OPEN-001</td>\n",
       "      <td>18.0</td>\n",
       "      <td>1</td>\n",
       "      <td>-1</td>\n",
       "      <td>4</td>\n",
       "      <td>1</td>\n",
       "      <td>30.310952</td>\n",
       "      <td>26.737884</td>\n",
       "      <td>...</td>\n",
       "      <td>0.2</td>\n",
       "      <td>3</td>\n",
       "      <td>1</td>\n",
       "      <td>1</td>\n",
       "      <td>0</td>\n",
       "      <td>0</td>\n",
       "      <td>0</td>\n",
       "      <td></td>\n",
       "      <td>0</td>\n",
       "      <td></td>\n",
       "    </tr>\n",
       "  </tbody>\n",
       "</table>\n",
       "<p>5 rows × 24 columns</p>\n",
       "</div>"
      ],
      "text/plain": [
       "  prefix                     c0                      content  size  face  \\\n",
       "0              TM 5-1940-328-10             TM 5-1940-328-10  24.0     1   \n",
       "1               OPERATOR MANUAL              OPERATOR MANUAL  14.0     1   \n",
       "2                           FOR                          FOR  14.0     1   \n",
       "3         RIGID INFLATABLE BOAT  RIGID INFLATABLE BOAT (RIB)  18.0     1   \n",
       "4          P/N NSW8MTR-OPEN-001         P/N NSW8MTR-OPEN-001  18.0     1   \n",
       "\n",
       "   marker  line  page         x0         y0  ...  spacing  chunk  group  type  \\\n",
       "0      -1     0     1  30.818960   9.038821  ...    -99.0      0      0     0   \n",
       "1      -1     1     1  35.302621  17.640046  ...      5.2      1      0     0   \n",
       "2      -1     2     1  44.642815  20.821866  ...      1.2      2      0     0   \n",
       "3      -1     3     1  25.986118  24.010614  ...      1.2      3      1     1   \n",
       "4      -1     4     1  30.310952  26.737884  ...      0.2      3      1     1   \n",
       "\n",
       "   section  subsection  subsubsection  title  section_tag  image_url  \n",
       "0        0           0              0                   0             \n",
       "1        0           0              0  START            0             \n",
       "2        0           0              0                   0             \n",
       "3        0           0              0                   0             \n",
       "4        0           0              0                   0             \n",
       "\n",
       "[5 rows x 24 columns]"
      ]
     },
     "execution_count": 11,
     "metadata": {},
     "output_type": "execute_result"
    }
   ],
   "source": [
    "tm_lines.head(5)"
   ]
  },
  {
   "cell_type": "markdown",
   "metadata": {},
   "source": [
    "### TM data by \"chunks\""
   ]
  },
  {
   "cell_type": "code",
   "execution_count": 12,
   "metadata": {},
   "outputs": [],
   "source": [
    "tm_chunks = pd.read_csv('data/tm/rib/chunks.tsv', sep='\\t').fillna('')"
   ]
  },
  {
   "cell_type": "code",
   "execution_count": 13,
   "metadata": {},
   "outputs": [
    {
     "data": {
      "text/html": [
       "<div>\n",
       "<style scoped>\n",
       "    .dataframe tbody tr th:only-of-type {\n",
       "        vertical-align: middle;\n",
       "    }\n",
       "\n",
       "    .dataframe tbody tr th {\n",
       "        vertical-align: top;\n",
       "    }\n",
       "\n",
       "    .dataframe thead th {\n",
       "        text-align: right;\n",
       "    }\n",
       "</style>\n",
       "<table border=\"1\" class=\"dataframe\">\n",
       "  <thead>\n",
       "    <tr style=\"text-align: right;\">\n",
       "      <th></th>\n",
       "      <th>prefix</th>\n",
       "      <th>content</th>\n",
       "      <th>marker</th>\n",
       "      <th>group</th>\n",
       "      <th>section</th>\n",
       "      <th>subsection</th>\n",
       "      <th>subsubsection</th>\n",
       "      <th>title</th>\n",
       "      <th>section_tag</th>\n",
       "      <th>image_url</th>\n",
       "      <th>context_mask</th>\n",
       "      <th>chunk_summary</th>\n",
       "      <th>group_summary</th>\n",
       "      <th>section_summary</th>\n",
       "    </tr>\n",
       "  </thead>\n",
       "  <tbody>\n",
       "    <tr>\n",
       "      <th>0</th>\n",
       "      <td></td>\n",
       "      <td>TM 5-1940-328-10</td>\n",
       "      <td>-1</td>\n",
       "      <td>0</td>\n",
       "      <td>0</td>\n",
       "      <td>0</td>\n",
       "      <td>0</td>\n",
       "      <td></td>\n",
       "      <td>0</td>\n",
       "      <td></td>\n",
       "      <td>1</td>\n",
       "      <td>TM 5-1940-328-10</td>\n",
       "      <td></td>\n",
       "      <td>COPYRIGHT RELEASE - the contractor has obtaine...</td>\n",
       "    </tr>\n",
       "    <tr>\n",
       "      <th>1</th>\n",
       "      <td></td>\n",
       "      <td>OPERATOR MANUAL</td>\n",
       "      <td>-1</td>\n",
       "      <td>0</td>\n",
       "      <td>0</td>\n",
       "      <td>0</td>\n",
       "      <td>0</td>\n",
       "      <td>START</td>\n",
       "      <td>0</td>\n",
       "      <td></td>\n",
       "      <td>0</td>\n",
       "      <td>OPERATOR MANUAL</td>\n",
       "      <td></td>\n",
       "      <td></td>\n",
       "    </tr>\n",
       "    <tr>\n",
       "      <th>2</th>\n",
       "      <td></td>\n",
       "      <td>FOR</td>\n",
       "      <td>-1</td>\n",
       "      <td>0</td>\n",
       "      <td>0</td>\n",
       "      <td>0</td>\n",
       "      <td>0</td>\n",
       "      <td></td>\n",
       "      <td>0</td>\n",
       "      <td></td>\n",
       "      <td>1</td>\n",
       "      <td>FOR</td>\n",
       "      <td></td>\n",
       "      <td></td>\n",
       "    </tr>\n",
       "    <tr>\n",
       "      <th>3</th>\n",
       "      <td></td>\n",
       "      <td>RIGID INFLATABLE BOAT (RIB) P/N NSW8MTR-OPEN-0...</td>\n",
       "      <td>-1</td>\n",
       "      <td>1</td>\n",
       "      <td>0</td>\n",
       "      <td>0</td>\n",
       "      <td>0</td>\n",
       "      <td></td>\n",
       "      <td>0</td>\n",
       "      <td></td>\n",
       "      <td>1</td>\n",
       "      <td>RIGID INFLATABLE BOAT (RIB) P/N NSW8MTR-OPEN-0...</td>\n",
       "      <td></td>\n",
       "      <td></td>\n",
       "    </tr>\n",
       "    <tr>\n",
       "      <th>4</th>\n",
       "      <td></td>\n",
       "      <td>DISTRIBUTION STATEMENT C - Distribution author...</td>\n",
       "      <td>-1</td>\n",
       "      <td>2</td>\n",
       "      <td>0</td>\n",
       "      <td>0</td>\n",
       "      <td>0</td>\n",
       "      <td></td>\n",
       "      <td>0</td>\n",
       "      <td></td>\n",
       "      <td>0</td>\n",
       "      <td>DISTRIBUTION STATEMENT C - Distribution author...</td>\n",
       "      <td>DISTRIBUTION STATEMENT C - Distribution author...</td>\n",
       "      <td></td>\n",
       "    </tr>\n",
       "  </tbody>\n",
       "</table>\n",
       "</div>"
      ],
      "text/plain": [
       "  prefix                                            content  marker  group  \\\n",
       "0                                          TM 5-1940-328-10      -1      0   \n",
       "1                                           OPERATOR MANUAL      -1      0   \n",
       "2                                                       FOR      -1      0   \n",
       "3         RIGID INFLATABLE BOAT (RIB) P/N NSW8MTR-OPEN-0...      -1      1   \n",
       "4         DISTRIBUTION STATEMENT C - Distribution author...      -1      2   \n",
       "\n",
       "   section  subsection  subsubsection  title  section_tag image_url  \\\n",
       "0        0           0              0                   0             \n",
       "1        0           0              0  START            0             \n",
       "2        0           0              0                   0             \n",
       "3        0           0              0                   0             \n",
       "4        0           0              0                   0             \n",
       "\n",
       "   context_mask                                      chunk_summary  \\\n",
       "0             1                                   TM 5-1940-328-10   \n",
       "1             0                                    OPERATOR MANUAL   \n",
       "2             1                                                FOR   \n",
       "3             1  RIGID INFLATABLE BOAT (RIB) P/N NSW8MTR-OPEN-0...   \n",
       "4             0  DISTRIBUTION STATEMENT C - Distribution author...   \n",
       "\n",
       "                                       group_summary  \\\n",
       "0                                                      \n",
       "1                                                      \n",
       "2                                                      \n",
       "3                                                      \n",
       "4  DISTRIBUTION STATEMENT C - Distribution author...   \n",
       "\n",
       "                                     section_summary  \n",
       "0  COPYRIGHT RELEASE - the contractor has obtaine...  \n",
       "1                                                     \n",
       "2                                                     \n",
       "3                                                     \n",
       "4                                                     "
      ]
     },
     "execution_count": 13,
     "metadata": {},
     "output_type": "execute_result"
    }
   ],
   "source": [
    "tm_chunks.head(5)"
   ]
  },
  {
   "cell_type": "code",
   "execution_count": null,
   "metadata": {},
   "outputs": [],
   "source": []
  }
 ],
 "metadata": {
  "kernelspec": {
   "display_name": "py36",
   "language": "python",
   "name": "py36"
  },
  "language_info": {
   "codemirror_mode": {
    "name": "ipython",
    "version": 3
   },
   "file_extension": ".py",
   "mimetype": "text/x-python",
   "name": "python",
   "nbconvert_exporter": "python",
   "pygments_lexer": "ipython3",
   "version": "3.6.12"
  }
 },
 "nbformat": 4,
 "nbformat_minor": 4
}
